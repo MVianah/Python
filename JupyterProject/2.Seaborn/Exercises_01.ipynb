{
 "cells": [
  {
   "cell_type": "code",
   "execution_count": 60,
   "metadata": {},
   "outputs": [],
   "source": [
    "import matplotlib.pyplot as plt\n",
    "import seaborn as sns\n",
    "\n",
    "import pandas as pd\n",
    "import numpy as np"
   ]
  },
  {
   "cell_type": "code",
   "execution_count": null,
   "metadata": {},
   "outputs": [],
   "source": [
    "# Criando a base de dados para estudo\n",
    "\n",
    "numVenda = []\n",
    "for i in range (1, 1001, 1):\n",
    "    numVenda.append(i)\n",
    "    \n",
    "name_Produto = ['Notebook', 'Smartphone', 'Monitor']\n",
    "\n",
    "name_Funcionario = ['Matheus', 'Jessica', 'Benjamim'] \n",
    "\n",
    "df_Vendas = pd.DataFrame({\n",
    "    'id_Venda': numVenda,\n",
    "    'Produto': np.random.choice(name_Produto,1000),\n",
    "    'Funcionario': np.random.choice(name_Funcionario,1000)\n",
    "})\n",
    "\n",
    "df_Vendas.head()\n"
   ]
  },
  {
   "cell_type": "code",
   "execution_count": 189,
   "metadata": {},
   "outputs": [],
   "source": [
    "df_Vendas.set_index('Funcionario', inplace=True)"
   ]
  },
  {
   "cell_type": "code",
   "execution_count": 194,
   "metadata": {},
   "outputs": [],
   "source": [
    "AgrupaFuncionario = df_Vendas.groupby(['Funcionario'])"
   ]
  },
  {
   "cell_type": "code",
   "execution_count": 5,
   "metadata": {},
   "outputs": [
    {
     "data": {
      "text/plain": [
       "'Vi'"
      ]
     },
     "execution_count": 5,
     "metadata": {},
     "output_type": "execute_result"
    }
   ],
   "source": [
    "Name = 'Matheus Viana'\n",
    "len(Name)\n",
    "\n",
    "Name[8:10]"
   ]
  },
  {
   "cell_type": "code",
   "execution_count": 12,
   "metadata": {},
   "outputs": [
    {
     "data": {
      "text/plain": [
       "'2'"
      ]
     },
     "execution_count": 12,
     "metadata": {},
     "output_type": "execute_result"
    }
   ],
   "source": [
    "str(1+1)"
   ]
  }
 ],
 "metadata": {
  "kernelspec": {
   "display_name": "Python 3",
   "language": "python",
   "name": "python3"
  },
  "language_info": {
   "codemirror_mode": {
    "name": "ipython",
    "version": 3
   },
   "file_extension": ".py",
   "mimetype": "text/x-python",
   "name": "python",
   "nbconvert_exporter": "python",
   "pygments_lexer": "ipython3",
   "version": "3.12.4"
  }
 },
 "nbformat": 4,
 "nbformat_minor": 2
}
